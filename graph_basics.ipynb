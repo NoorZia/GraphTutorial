{
 "cells": [
  {
   "cell_type": "markdown",
   "metadata": {},
   "source": [
    "# Basic graph operations\n",
    "We are going to construct an undirected graph from an edge list and compute some matrix representations. The graph we choose is the same as in Figure 2 of the chapter. We recommend replacing the edge list with your own or add more nodes/edges to experiment. \n",
    " \n",
    "![](https://paper-attachments.dropbox.com/s_6AF80FDD9A25B06E7C084A93BAEB5400BF572D4F061F380E5B16AF6BF46329CC_1591161441592_ge.png)\n",
    "\n"
   ]
  },
  {
   "cell_type": "code",
   "execution_count": 21,
   "metadata": {},
   "outputs": [],
   "source": [
    "import networkx as nx\n",
    "import matplotlib.pyplot as plt\n"
   ]
  },
  {
   "cell_type": "code",
   "execution_count": 22,
   "metadata": {},
   "outputs": [
    {
     "data": {
      "image/png": "[encoded data removed]",
      "text/plain": [
       "<Figure size 432x288 with 1 Axes>"
      ]
     },
     "metadata": {},
     "output_type": "display_data"
    }
   ],
   "source": [
    "# initialize a graph object\n",
    "G=nx.Graph()\n",
    "\n",
    "# create graph from edge list\n",
    "edge_list = [(1,2),(2,3),(2,7),(3,4),(4,5), (5,6), (6,7), (7, 3),]\n",
    "G.add_edges_from(edge_list)\n",
    "\n",
    "# display the graph\n",
    "nx.draw(G, with_labels=True)\n",
    "plt.show() "
   ]
  },
  {
   "cell_type": "code",
   "execution_count": 23,
   "metadata": {},
   "outputs": [
    {
     "data": {
      "text/plain": [
       "DegreeView({1: 1, 2: 3, 3: 3, 7: 3, 4: 2, 5: 2, 6: 2})"
      ]
     },
     "execution_count": 23,
     "metadata": {},
     "output_type": "execute_result"
    }
   ],
   "source": [
    "# degree \n",
    "G.degree()"
   ]
  },
  {
   "cell_type": "markdown",
   "metadata": {},
   "source": [
    "# Matrix representation\n",
    "The matrix representations differ based on the ordering of node. So here we first get the node list to understand the matrix representations."
   ]
  },
  {
   "cell_type": "code",
   "execution_count": 24,
   "metadata": {},
   "outputs": [
    {
     "name": "stdout",
     "output_type": "stream",
     "text": [
      "[1, 2, 3, 7, 4, 5, 6]\n",
      "Adjacency matrix\n",
      " [[0 1 0 0 0 0 0]\n",
      " [1 0 1 1 0 0 0]\n",
      " [0 1 0 1 1 0 0]\n",
      " [0 1 1 0 0 0 1]\n",
      " [0 0 1 0 0 1 0]\n",
      " [0 0 0 0 1 0 1]\n",
      " [0 0 0 1 0 1 0]]\n"
     ]
    }
   ],
   "source": [
    "print(G.nodes()) #nodes\n",
    "\n",
    "# adjacency matrix\n",
    "A = nx.adjacency_matrix(G)\n",
    "print(\"Adjacency matrix\\n\", A.todense())"
   ]
  },
  {
   "cell_type": "code",
   "execution_count": 25,
   "metadata": {},
   "outputs": [
    {
     "name": "stdout",
     "output_type": "stream",
     "text": [
      "Laplacian matrix\n",
      " [[ 1 -1  0  0  0  0  0]\n",
      " [-1  3 -1 -1  0  0  0]\n",
      " [ 0 -1  3 -1 -1  0  0]\n",
      " [ 0 -1 -1  3  0  0 -1]\n",
      " [ 0  0 -1  0  2 -1  0]\n",
      " [ 0  0  0  0 -1  2 -1]\n",
      " [ 0  0  0 -1  0 -1  2]]\n"
     ]
    }
   ],
   "source": [
    "# laplacian matrix\n",
    "Q = nx.laplacian_matrix(G)\n",
    "print(\"Laplacian matrix\\n\", Q.todense())"
   ]
  },
  {
   "cell_type": "code",
   "execution_count": 26,
   "metadata": {},
   "outputs": [
    {
     "name": "stdout",
     "output_type": "stream",
     "text": [
      "Incidence matrix\n",
      " [[1. 0. 0. 0. 0. 0. 0. 0.]\n",
      " [1. 1. 1. 0. 0. 0. 0. 0.]\n",
      " [0. 1. 0. 1. 1. 0. 0. 0.]\n",
      " [0. 0. 1. 0. 1. 1. 0. 0.]\n",
      " [0. 0. 0. 1. 0. 0. 1. 0.]\n",
      " [0. 0. 0. 0. 0. 0. 1. 1.]\n",
      " [0. 0. 0. 0. 0. 1. 0. 1.]]\n"
     ]
    }
   ],
   "source": [
    "# incidence matrix\n",
    "B = nx.incidence_matrix(G)\n",
    "print(\"Incidence matrix\\n\", B.todense())"
   ]
  },
  {
   "cell_type": "markdown",
   "metadata": {},
   "source": [
    "# Removing edges\n",
    "Next we will remove an edge and see how that changes the matrices. Notice that the shape of the incidence matrix changes. The degree of nodes also changes. We remove edge connecting node 1 to node 2. Node 1 becomes disconnected and the adjacency matrix has all zeros in rows and columns for node 1"
   ]
  },
  {
   "cell_type": "code",
   "execution_count": 27,
   "metadata": {},
   "outputs": [
    {
     "data": {
      "image/png": "[encoded data removed]",
      "text/plain": [
       "<Figure size 432x288 with 1 Axes>"
      ]
     },
     "metadata": {},
     "output_type": "display_data"
    },
    {
     "name": "stdout",
     "output_type": "stream",
     "text": [
      "Nodes [1, 2, 3, 7, 4, 5, 6]\n",
      "degree [(1, 0), (2, 2), (3, 3), (7, 3), (4, 2), (5, 2), (6, 2)]\n",
      "Adjacency matrix\n",
      " [[0 0 0 0 0 0 0]\n",
      " [0 0 1 1 0 0 0]\n",
      " [0 1 0 1 1 0 0]\n",
      " [0 1 1 0 0 0 1]\n",
      " [0 0 1 0 0 1 0]\n",
      " [0 0 0 0 1 0 1]\n",
      " [0 0 0 1 0 1 0]]\n",
      "Laplacian matrix\n",
      " [[ 0  0  0  0  0  0  0]\n",
      " [ 0  2 -1 -1  0  0  0]\n",
      " [ 0 -1  3 -1 -1  0  0]\n",
      " [ 0 -1 -1  3  0  0 -1]\n",
      " [ 0  0 -1  0  2 -1  0]\n",
      " [ 0  0  0  0 -1  2 -1]\n",
      " [ 0  0  0 -1  0 -1  2]]\n",
      "Incidence matrix\n",
      " [[0. 0. 0. 0. 0. 0. 0.]\n",
      " [1. 1. 0. 0. 0. 0. 0.]\n",
      " [1. 0. 1. 1. 0. 0. 0.]\n",
      " [0. 1. 0. 1. 1. 0. 0.]\n",
      " [0. 0. 1. 0. 0. 1. 0.]\n",
      " [0. 0. 0. 0. 0. 1. 1.]\n",
      " [0. 0. 0. 0. 1. 0. 1.]]\n"
     ]
    }
   ],
   "source": [
    "G.remove_edge(1, 2)\n",
    "\n",
    "# display the graph\n",
    "nx.draw(G, with_labels=True)\n",
    "plt.show() \n",
    "\n",
    "print(\"Nodes\",G.nodes()) #nodes\n",
    "\n",
    "print(\"degree\", G.degree())\n",
    "# adjacency matrix\n",
    "A = nx.adjacency_matrix(G)\n",
    "print(\"Adjacency matrix\\n\", A.todense())\n",
    "\n",
    "# laplacian matrix\n",
    "Q = nx.laplacian_matrix(G)\n",
    "print(\"Laplacian matrix\\n\", Q.todense())\n",
    "\n",
    "# incidence matrix\n",
    "B = nx.incidence_matrix(G)\n",
    "print(\"Incidence matrix\\n\", B.todense())"
   ]
  },
  {
   "cell_type": "markdown",
   "metadata": {},
   "source": [
    "# Adding edges\n",
    "Next we will add edges and see how that changes the matrices. Notice that the shape of the incidence matrix changes. "
   ]
  },
  {
   "cell_type": "code",
   "execution_count": 28,
   "metadata": {},
   "outputs": [
    {
     "data": {
      "image/png": "[encoded data removed]",
      "text/plain": [
       "<Figure size 432x288 with 1 Axes>"
      ]
     },
     "metadata": {},
     "output_type": "display_data"
    },
    {
     "name": "stdout",
     "output_type": "stream",
     "text": [
      "Nodes [1, 2, 3, 7, 4, 5, 6]\n",
      "degree [(1, 0), (2, 3), (3, 5), (7, 3), (4, 2), (5, 4), (6, 3)]\n",
      "Adjacency matrix\n",
      " [[0 0 0 0 0 0 0]\n",
      " [0 0 1 1 0 1 0]\n",
      " [0 1 0 1 1 1 1]\n",
      " [0 1 1 0 0 0 1]\n",
      " [0 0 1 0 0 1 0]\n",
      " [0 1 1 0 1 0 1]\n",
      " [0 0 1 1 0 1 0]]\n",
      "Laplacian matrix\n",
      " [[ 0  0  0  0  0  0  0]\n",
      " [ 0  3 -1 -1  0 -1  0]\n",
      " [ 0 -1  5 -1 -1 -1 -1]\n",
      " [ 0 -1 -1  3  0  0 -1]\n",
      " [ 0  0 -1  0  2 -1  0]\n",
      " [ 0 -1 -1  0 -1  4 -1]\n",
      " [ 0  0 -1 -1  0 -1  3]]\n",
      "Incidence matrix\n",
      " [[0. 0. 0. 0. 0. 0. 0. 0. 0. 0.]\n",
      " [1. 1. 1. 0. 0. 0. 0. 0. 0. 0.]\n",
      " [1. 0. 0. 1. 1. 1. 1. 0. 0. 0.]\n",
      " [0. 1. 0. 0. 1. 0. 0. 1. 0. 0.]\n",
      " [0. 0. 0. 1. 0. 0. 0. 0. 1. 0.]\n",
      " [0. 0. 1. 0. 0. 0. 1. 0. 1. 1.]\n",
      " [0. 0. 0. 0. 0. 1. 0. 1. 0. 1.]]\n"
     ]
    }
   ],
   "source": [
    "G.add_edge(3, 6)\n",
    "G.add_edge(3, 5)\n",
    "G.add_edge(2, 5)\n",
    "\n",
    "# display the graph\n",
    "nx.draw(G, with_labels=True)\n",
    "plt.show() \n",
    "\n",
    "print(\"Nodes\",G.nodes()) #nodes\n",
    "print(\"degree\", G.degree())\n",
    "\n",
    "# adjacency matrix\n",
    "A = nx.adjacency_matrix(G)\n",
    "print(\"Adjacency matrix\\n\", A.todense())\n",
    "\n",
    "# laplacian matrix\n",
    "Q = nx.laplacian_matrix(G)\n",
    "print(\"Laplacian matrix\\n\", Q.todense())\n",
    "\n",
    "# incidence matrix\n",
    "B = nx.incidence_matrix(G)\n",
    "print(\"Incidence matrix\\n\", B.todense())"
   ]
  }
 ],
 "metadata": {
  "kernelspec": {
   "display_name": "Python 3",
   "language": "python",
   "name": "python3"
  },
  "language_info": {
   "codemirror_mode": {
    "name": "ipython",
    "version": 3
   },
   "file_extension": ".py",
   "mimetype": "text/x-python",
   "name": "python",
   "nbconvert_exporter": "python",
   "pygments_lexer": "ipython3",
   "version": "3.7.6"
  }
 },
 "nbformat": 4,
 "nbformat_minor": 4
}
